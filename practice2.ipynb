{
 "cells": [
  {
   "cell_type": "code",
   "execution_count": 2,
   "metadata": {},
   "outputs": [],
   "source": [
    "import numpy as np\n",
    "import pandas as pd\n",
    "df = pd.read_excel('file_example_XLS_100.xls')"
   ]
  },
  {
   "cell_type": "markdown",
   "metadata": {},
   "source": [
    "PRINT DATAFRAME STRUCTURE"
   ]
  },
  {
   "cell_type": "code",
   "execution_count": 4,
   "metadata": {},
   "outputs": [
    {
     "name": "stdout",
     "output_type": "stream",
     "text": [
      "<class 'pandas.core.frame.DataFrame'>\n",
      "RangeIndex: 100 entries, 0 to 99\n",
      "Data columns (total 8 columns):\n",
      " #   Column      Non-Null Count  Dtype \n",
      "---  ------      --------------  ----- \n",
      " 0   0           100 non-null    int64 \n",
      " 1   First Name  100 non-null    object\n",
      " 2   Last Name   100 non-null    object\n",
      " 3   Gender      100 non-null    object\n",
      " 4   Country     100 non-null    object\n",
      " 5   Age         100 non-null    int64 \n",
      " 6   Date        100 non-null    object\n",
      " 7   Id          100 non-null    int64 \n",
      "dtypes: int64(3), object(5)\n",
      "memory usage: 6.4+ KB\n",
      "None\n"
     ]
    }
   ],
   "source": [
    "print(df.info())"
   ]
  },
  {
   "cell_type": "markdown",
   "metadata": {},
   "source": [
    "PRINT DATAFRAME SAMPLE"
   ]
  },
  {
   "cell_type": "code",
   "execution_count": 23,
   "metadata": {},
   "outputs": [
    {
     "name": "stdout",
     "output_type": "stream",
     "text": [
      "     0 First Name Last Name  Gender        Country  Age        Date    Id\n",
      "82  83       Jona   Grindle  Female  Great Britain   26  21/05/2015  6458\n",
      "9   10     Fallon   Winward  Female  Great Britain   28  16/08/2016  5486\n",
      "37  38        Sau      Pfau  Female  United States   25  21/05/2015  9536\n",
      "34  35     Dewitt    Borger    Male  United States   36  21/05/2015  8514\n",
      "89  90      Chase    Karner    Male  United States   37  15/10/2017  2154\n"
     ]
    }
   ],
   "source": [
    "print(df.sample(5))"
   ]
  },
  {
   "cell_type": "markdown",
   "metadata": {},
   "source": [
    "PRINT DATAFRAME AGE MEAN GROUPEDBY GENDER"
   ]
  },
  {
   "cell_type": "code",
   "execution_count": 12,
   "metadata": {},
   "outputs": [
    {
     "name": "stdout",
     "output_type": "stream",
     "text": [
      "                0        Age           Id\n",
      "Gender                                   \n",
      "Female  49.552632  33.921053  4967.157895\n",
      "Male    53.500000  31.166667  3927.833333\n"
     ]
    }
   ],
   "source": [
    "print(df.groupby('Gender')['Age'].mean())"
   ]
  },
  {
   "cell_type": "markdown",
   "metadata": {},
   "source": [
    "PRINT COUNTRYWISE ID COUNT"
   ]
  },
  {
   "cell_type": "code",
   "execution_count": 14,
   "metadata": {},
   "outputs": [
    {
     "name": "stdout",
     "output_type": "stream",
     "text": [
      "Country\n",
      "France           24\n",
      "Great Britain    28\n",
      "United States    48\n",
      "Name: Id, dtype: int64\n"
     ]
    }
   ],
   "source": [
    "print(df.groupby('Country')['Id'].count())"
   ]
  },
  {
   "cell_type": "markdown",
   "metadata": {},
   "source": [
    "PRINT Unique DATES Count"
   ]
  },
  {
   "cell_type": "code",
   "execution_count": 22,
   "metadata": {},
   "outputs": [
    {
     "name": "stdout",
     "output_type": "stream",
     "text": [
      "3\n",
      "      0 First Name   Last Name  Gender        Country  Age        Date    Id\n",
      "0     1      Dulce       Abril  Female  United States   32  15/10/2017  1562\n",
      "1     2       Mara   Hashimoto  Female  Great Britain   25  16/08/2016  1582\n",
      "2     3     Philip        Gent    Male         France   36  21/05/2015  2587\n",
      "3     4   Kathleen      Hanner  Female  United States   25  15/10/2017  3549\n",
      "4     5    Nereida     Magwood  Female  United States   58  16/08/2016  2468\n",
      "..  ...        ...         ...     ...            ...  ...         ...   ...\n",
      "95   96       Roma  Lafollette  Female  United States   34  15/10/2017  2654\n",
      "96   97     Felisa        Cail  Female  United States   28  16/08/2016  6525\n",
      "97   98   Demetria       Abbey  Female  United States   32  21/05/2015  3265\n",
      "98   99     Jeromy        Danz    Male  United States   39  15/10/2017  3265\n",
      "99  100   Rasheeda      Alkire  Female  United States   29  16/08/2016  6125\n",
      "\n",
      "[100 rows x 8 columns]\n"
     ]
    }
   ],
   "source": [
    "print(df['Date'].unique().size)\n"
   ]
  },
  {
   "cell_type": "markdown",
   "metadata": {},
   "source": [
    "FIND Last NAME OF 'JONA', 'CHASE' OR 'FALLON'"
   ]
  },
  {
   "cell_type": "code",
   "execution_count": 35,
   "metadata": {},
   "outputs": [
    {
     "name": "stdout",
     "output_type": "stream",
     "text": [
      "32    Grindle\n",
      "82    Grindle\n",
      "Name: Last Name, dtype: object\n",
      "39    Karner\n",
      "89    Karner\n",
      "Name: Last Name, dtype: object\n",
      "9     Winward\n",
      "59    Winward\n",
      "Name: Last Name, dtype: object\n"
     ]
    }
   ],
   "source": [
    "print(df[df['First Name'] == 'Jona']['Last Name'])\n",
    "print(df[df['First Name'] == 'Chase']['Last Name'])\n",
    "print(df[df['First Name'] == 'Fallon']['Last Name'])"
   ]
  },
  {
   "cell_type": "markdown",
   "metadata": {},
   "source": [
    "PRINT COUNT OF UNIQUE RECORDS"
   ]
  },
  {
   "cell_type": "code",
   "execution_count": 40,
   "metadata": {},
   "outputs": [
    {
     "name": "stdout",
     "output_type": "stream",
     "text": [
      "Last Name    50\n",
      "Gender       50\n",
      "Country      50\n",
      "Age          50\n",
      "Date         50\n",
      "Id           50\n",
      "dtype: int64\n"
     ]
    }
   ],
   "source": [
    "print(df.iloc[:,2:].drop_duplicates().count())"
   ]
  },
  {
   "cell_type": "markdown",
   "metadata": {},
   "source": [
    "PRINT FEMALES WITH AGE LESS THAN 26"
   ]
  },
  {
   "cell_type": "code",
   "execution_count": 49,
   "metadata": {},
   "outputs": [
    {
     "name": "stdout",
     "output_type": "stream",
     "text": [
      "       0 First Name Last Name  Gender Country   Age        Date      Id\n",
      "69   NaN        NaN       NaN     NaN     NaN   NaN         NaN     NaN\n",
      "25   NaN        NaN       NaN     NaN     NaN   NaN         NaN     NaN\n",
      "31   NaN        NaN       NaN     NaN     NaN   NaN         NaN     NaN\n",
      "93   NaN        NaN       NaN     NaN     NaN   NaN         NaN     NaN\n",
      "7    NaN        NaN       NaN     NaN     NaN   NaN         NaN     NaN\n",
      "88   NaN        NaN       NaN     NaN     NaN   NaN         NaN     NaN\n",
      "65  66.0   Shavonne       Pia  Female  France  24.0  21/05/2015  1546.0\n",
      "59   NaN        NaN       NaN     NaN     NaN   NaN         NaN     NaN\n",
      "41   NaN        NaN       NaN     NaN     NaN   NaN         NaN     NaN\n",
      "74  75.0     Lester   Prothro    Male  France  21.0  15/10/2017  6574.0\n"
     ]
    }
   ],
   "source": [
    "print(df.where(pd.to_numeric(df['Age']) < 26).sample(10))\n"
   ]
  }
 ],
 "metadata": {
  "kernelspec": {
   "display_name": "Python 3.10.4 64-bit",
   "language": "python",
   "name": "python3"
  },
  "language_info": {
   "codemirror_mode": {
    "name": "ipython",
    "version": 3
   },
   "file_extension": ".py",
   "mimetype": "text/x-python",
   "name": "python",
   "nbconvert_exporter": "python",
   "pygments_lexer": "ipython3",
   "version": "3.10.4"
  },
  "orig_nbformat": 4,
  "vscode": {
   "interpreter": {
    "hash": "916dbcbb3f70747c44a77c7bcd40155683ae19c65e1c03b4aa3499c5328201f1"
   }
  }
 },
 "nbformat": 4,
 "nbformat_minor": 2
}
