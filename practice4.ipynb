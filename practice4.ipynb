{
 "cells": [
  {
   "cell_type": "code",
   "execution_count": 2,
   "metadata": {},
   "outputs": [],
   "source": [
    "import pandas as pd\n",
    "import seaborn as sb"
   ]
  },
  {
   "cell_type": "code",
   "execution_count": 7,
   "metadata": {},
   "outputs": [
    {
     "name": "stdout",
     "output_type": "stream",
     "text": [
      "   ID   Team Country     NameF      NameL  Weight Height        DOB  \\\n",
      "0   1  Women  Canada    Meghan     Agosta     148    5'7 1987-02-12   \n",
      "1   2  Women  Canada   Rebecca   Johnston     148    5'9 1989-09-24   \n",
      "2   3  Women  Canada     Laura     Stacey     156   5'10 1994-05-05   \n",
      "3   4  Women  Canada  Jennifer  Wakefield     172   5'10 1989-06-15   \n",
      "4   5  Women  Canada   Jillian   Saulnier     144    5'5 1992-03-07   \n",
      "\n",
      "    Hometown  Prov      Pos  Age  HeightFt  HtIn  BMI  \n",
      "0    Ruthven  Ont.  Forward   34  5.583333    67   23  \n",
      "1    Sudbury  Ont.  Forward   32  5.750000    69   22  \n",
      "2  Kleinburg  Ont.  Forward   27  5.833333    70   22  \n",
      "3  Pickering  Ont.  Forward   32  5.833333    70   25  \n",
      "4    Halifax  N.S.  Forward   29  5.416667    65   24  \n"
     ]
    }
   ],
   "source": [
    "df = pd.read_excel('hockeyplayerdata2018.xlsx',sheet_name='PlayerData',skiprows=2)\n",
    "print(df.head())"
   ]
  },
  {
   "cell_type": "markdown",
   "metadata": {},
   "source": [
    "PRINT COUNTRYWISE PLAYER COUNT"
   ]
  },
  {
   "cell_type": "code",
   "execution_count": 9,
   "metadata": {},
   "outputs": [
    {
     "name": "stdout",
     "output_type": "stream",
     "text": [
      "Canada    48\n",
      "USA       48\n",
      "Name: Country, dtype: int64\n"
     ]
    }
   ],
   "source": [
    "print(df['Country'].value_counts())"
   ]
  },
  {
   "cell_type": "markdown",
   "metadata": {},
   "source": [
    "PRINT PLAYER WITH SAME NAMES"
   ]
  },
  {
   "cell_type": "code",
   "execution_count": 25,
   "metadata": {},
   "outputs": [
    {
     "name": "stdout",
     "output_type": "stream",
     "text": [
      "Ryan        4\n",
      "Chris       3\n",
      "Emily       2\n",
      "Brandon     2\n",
      "Chad        2\n",
      "Amanda      2\n",
      "Bobby       2\n",
      "Maxim       2\n",
      "Jocelyne    2\n",
      "Meghan      2\n",
      "Haley       2\n",
      "Laura       2\n",
      "Brian       2\n",
      "Name: NameF, dtype: int64\n"
     ]
    }
   ],
   "source": [
    "# print(df['NameF'].value_counts()>1)\n",
    "print(df.NameF.value_counts().loc[lambda x:x>1])\n"
   ]
  },
  {
   "cell_type": "markdown",
   "metadata": {},
   "source": [
    "PRINT ATHLETE NAMES GROUPED-BY HOMETOWN"
   ]
  },
  {
   "cell_type": "code",
   "execution_count": 37,
   "metadata": {},
   "outputs": [
    {
     "name": "stdout",
     "output_type": "stream",
     "text": [
      "82    Chad\n",
      "Name: Abington, dtype: object\n",
      "68    Maddie\n",
      "Name: Andover, dtype: object\n",
      "16    Lauriane\n",
      "Name: Beaconsfield, dtype: object\n",
      "12    Marie-Philip\n",
      "Name: Beauceville, dtype: object\n",
      "78    Matt\n",
      "Name: Bellmore, dtype: object\n",
      "81    Ryan\n",
      "Name: Bensalem, dtype: object\n",
      "91    Ryan\n",
      "Name: Bloomington, dtype: object\n",
      "47    Justin\n",
      "Name: Blyth, dtype: object\n",
      "86    John\n",
      "Name: Boston, dtype: object\n",
      "93    Noah\n",
      "Name: Brighton, dtype: object\n",
      "34    Maxim\n",
      "Name: Brossard, dtype: object\n",
      "66    Emily\n",
      "83    David\n",
      "Name: Buffalo, dtype: object\n",
      "19    Renata\n",
      "55      Kali\n",
      "Name: Burlington, dtype: object\n",
      "28    Brandon\n",
      "43        Mat\n",
      "Name: Calgary, dtype: object\n",
      "37    Karl\n",
      "Name: Camrose, dtype: object\n",
      "80    Jordan\n",
      "94     James\n",
      "Name: Canton, dtype: object\n",
      "32    Mason\n",
      "Name: Cochrane, dtype: object\n",
      "54    Meghan\n",
      "Name: Danvers, dtype: object\n",
      "67    Alex\n",
      "Name: Delafield, dtype: object\n",
      "53    Brianna\n",
      "Name: Dousman, dtype: object\n",
      "48    Cayla\n",
      "Name: Eastvale, dtype: object\n",
      "20    Shannon\n",
      "Name: Edmonton, dtype: object\n",
      "95    Ryan\n",
      "Name: Erie, dtype: object\n",
      "57    Megan\n",
      "Name: Farmington, dtype: object\n",
      "60    Jocelyne\n",
      "61     Monique\n",
      "Name: Grand Forks, dtype: object\n",
      "4    Jillian\n",
      "Name: Halifax, dtype: object\n",
      "8     Sarah\n",
      "17    Laura\n",
      "Name: Hamilton, dtype: object\n",
      "92    Troy\n",
      "Name: Highlands Ranch, dtype: object\n",
      "21    Geneviève\n",
      "Name: Kingston, dtype: object\n",
      "2    Laura\n",
      "Name: Kleinburg, dtype: object\n",
      "22    Ann-Renée\n",
      "Name: La Malbaie, dtype: object\n",
      "30    René\n",
      "Name: Lac La Biche, dtype: object\n",
      "73    Jonathan\n",
      "Name: Ladera Ranch, dtype: object\n",
      "56    Nicole\n",
      "Name: Lakewood, dtype: object\n",
      "90    Jim\n",
      "Name: Lapeer, dtype: object\n",
      "27    Rob\n",
      "Name: Lethbridge, dtype: object\n",
      "40    Marc-Andre\n",
      "Name: L’Île-Bizard, dtype: object\n",
      "38    Chris\n",
      "Name: MacTier, dtype: object\n",
      "58    Amanda\n",
      "Name: Madison, dtype: object\n",
      "15    Brigette\n",
      "Name: Mallard, dtype: object\n",
      "76    Bobby\n",
      "Name: Marlborough, dtype: object\n",
      "72    Chad\n",
      "Name: Marysville, dtype: object\n",
      "71    Mark\n",
      "Name: Milford, dtype: object\n",
      "63    Sidney\n",
      "Name: Minnetonka, dtype: object\n",
      "65    Amanda\n",
      "Name: Montpelier, dtype: object\n",
      "44    Maxim\n",
      "46    Kevin\n",
      "Name: Montreal, dtype: object\n",
      "74    Will\n",
      "Name: Moorhead, dtype: object\n",
      "39    Chay\n",
      "Name: Morden, dtype: object\n",
      "75    Chris\n",
      "Name: North Reading, dtype: object\n",
      "29    Quinton\n",
      "Name: Oakbank, dtype: object\n",
      "7     Brianne\n",
      "42       Cody\n",
      "Name: Oakville, dtype: object\n",
      "33    Eric\n",
      "Name: Ottawa, dtype: object\n",
      "52    Kendall\n",
      "Name: Palos Heights, dtype: object\n",
      "3    Jennifer\n",
      "Name: Pickering, dtype: object\n",
      "51     Dani\n",
      "64    Kelly\n",
      "Name: Plymouth, dtype: object\n",
      "84    Broc\n",
      "Name: Rindge, dtype: object\n",
      "79    Brian\n",
      "Name: Rochester, dtype: object\n",
      "25    Derek\n",
      "Name: Rockland, dtype: object\n",
      "69    Haley\n",
      "Name: Rockville, dtype: object\n",
      "70    Lee\n",
      "Name: Roseville, dtype: object\n",
      "0    Meghan\n",
      "Name: Ruthven, dtype: object\n",
      "11    Emily\n",
      "Name: Saskatoon, dtype: object\n",
      "10    Natalie\n",
      "Name: Scarborough, dtype: object\n",
      "77    Ryan\n",
      "Name: Scituate, dtype: object\n",
      "45    Ben\n",
      "Name: Spruce Grove, dtype: object\n",
      "18    Meaghan\n",
      "Name: St. Albert, dtype: object\n",
      "6    Bailey\n",
      "Name: St. Anne, dtype: object\n",
      "14    Jocelyne\n",
      "Name: Ste. Anne, dtype: object\n",
      "13    Blayre\n",
      "Name: Stellarton, dtype: object\n",
      "1    Rebecca\n",
      "Name: Sudbury, dtype: object\n",
      "59    Hilary\n",
      "Name: Sun Valley, dtype: object\n",
      "9    Haley\n",
      "Name: Thunder Bay, dtype: object\n",
      "24       Wojtek\n",
      "26        Chris\n",
      "36    Christian\n",
      "Name: Toronto, dtype: object\n",
      "50    Hannah\n",
      "Name: Vadnais Heights, dtype: object\n",
      "5    Mélodie\n",
      "Name: Valleyfield, dtype: object\n",
      "23    Gilbert\n",
      "41     Stefan\n",
      "Name: Vancouver, dtype: object\n",
      "31    Andrew\n",
      "Name: Vernon, dtype: object\n",
      "88    Garrett\n",
      "Name: Vienna, dtype: object\n",
      "35    Linden\n",
      "Name: Wakaw, dtype: object\n",
      "62    Gigi\n",
      "Name: Warroad, dtype: object\n",
      "49    Kacey\n",
      "Name: Westfield, dtype: object\n",
      "89    Bobby\n",
      "Name: Wilmington, dtype: object\n",
      "85    Brandon\n",
      "Name: Winter Park, dtype: object\n",
      "87    Brian\n",
      "Name: Yardley, dtype: object\n"
     ]
    },
    {
     "data": {
      "text/plain": [
       "Hometown\n",
       "Abington        None\n",
       "Andover         None\n",
       "Beaconsfield    None\n",
       "Beauceville     None\n",
       "Bellmore        None\n",
       "                ... \n",
       "Warroad         None\n",
       "Westfield       None\n",
       "Wilmington      None\n",
       "Winter Park     None\n",
       "Yardley         None\n",
       "Name: NameF, Length: 84, dtype: object"
      ]
     },
     "execution_count": 37,
     "metadata": {},
     "output_type": "execute_result"
    }
   ],
   "source": [
    "df.groupby('Hometown')['NameF'].apply(print)"
   ]
  },
  {
   "cell_type": "markdown",
   "metadata": {},
   "source": [
    "PRINT COUNT OF PLAYERS AGED LESS THAN 30"
   ]
  },
  {
   "cell_type": "code",
   "execution_count": 63,
   "metadata": {},
   "outputs": [
    {
     "name": "stdout",
     "output_type": "stream",
     "text": [
      "    ID   Team Country      NameF       NameL  Weight Height        DOB  \\\n",
      "2    3  Women  Canada      Laura      Stacey     156   5'10 1994-05-05   \n",
      "4    5  Women  Canada    Jillian    Saulnier     144    5'5 1992-03-07   \n",
      "5    6  Women  Canada    Mélodie      Daoust     159    5'6 1992-01-07   \n",
      "8    9  Women  Canada      Sarah       Nurse     140    5'8 1995-01-04   \n",
      "11  12  Women  Canada      Emily       Clark     130    5'7 1995-11-28   \n",
      "13  14  Women  Canada     Blayre    Turnbull     155    5'7 1993-07-15   \n",
      "15  16  Women  Canada   Brigette   Lacquette     180    5'6 1992-10-11   \n",
      "19  20  Women  Canada     Renata        Fast     144    5'6 1994-10-06   \n",
      "22  23  Women  Canada  Ann-Renée    Desbiens     160    5'9 1994-04-10   \n",
      "29  30    Men  Canada    Quinton      Howden     190    6'2 1992-01-21   \n",
      "36  37    Men  Canada  Christian      Thomas     174    5'9 1992-05-26   \n",
      "48  49  Women     USA      Cayla      Barnes     145    5'1 1999-01-07   \n",
      "50  51  Women     USA     Hannah      Brandt     150    5'6 1993-11-27   \n",
      "51  52  Women     USA       Dani  Cameranesi     148    5'5 1995-06-30   \n",
      "52  53  Women     USA    Kendall       Coyne     123    5'2 1992-05-25   \n",
      "55  56  Women     USA       Kali    Flanagan     142    5'4 1995-09-19   \n",
      "56  57  Women     USA     Nicole     Hensley     155    5'7 1994-06-23   \n",
      "57  58  Women     USA      Megan      Keller     160   5'11 1996-05-01   \n",
      "63  64  Women     USA     Sidney       Morin     140    5'5 1995-06-06   \n",
      "64  65  Women     USA      Kelly      Pannek     165    5'8 1995-12-29   \n",
      "65  66  Women     USA     Amanda      Pelkey     135    5'3 1993-05-29   \n",
      "66  67  Women     USA      Emily     Pfalzer     125    5'3 1993-06-14   \n",
      "67  68  Women     USA       Alex      Rigsby     150    5'7 1992-01-03   \n",
      "68  69  Women     USA     Maddie      Rooney     145    5'5 1997-07-07   \n",
      "69  70  Women     USA      Haley     Skarupa     140    5'6 1994-01-03   \n",
      "70  71  Women     USA        Lee   Stecklein     175    6'0 1994-04-23   \n",
      "74  75    Men     USA       Will      Borgen     195    6'2 1996-12-19   \n",
      "77  78    Men     USA       Ryan      Donato     196    6'1 1996-04-09   \n",
      "80  81    Men     USA     Jordan    Greenway     235    6'5 1997-02-16   \n",
      "92  93    Men     USA       Troy       Terry     179    6'0 1997-09-10   \n",
      "\n",
      "           Hometown    Prov      Pos  Age  HeightFt  HtIn  BMI  \n",
      "2         Kleinburg    Ont.  Forward   27  5.833333    70   22  \n",
      "4           Halifax    N.S.  Forward   29  5.416667    65   24  \n",
      "5       Valleyfield    Que.  Forward   29  5.500000    66   26  \n",
      "8          Hamilton    Ont.  Forward   26  5.666667    68   21  \n",
      "11        Saskatoon   Sask.  Forward   26  5.583333    67   20  \n",
      "13       Stellarton    N.S.  Forward   28  5.583333    67   24  \n",
      "15          Mallard    Man.  Defence   29  5.500000    66   29  \n",
      "19       Burlington    Ont.  Defence   27  5.500000    66   23  \n",
      "22       La Malbaie    Que.   Goalie   27  5.750000    69   24  \n",
      "29          Oakbank    Man.  Forward   29  6.166667    74   24  \n",
      "36          Toronto    Ont.  Forward   29  5.750000    69   26  \n",
      "48         Eastvale  Calif.  Defence   22  5.083333    61   27  \n",
      "50  Vadnais Heights   Minn.  Forward   28  5.500000    66   24  \n",
      "51         Plymouth   Minn.  Forward   26  5.416667    65   25  \n",
      "52    Palos Heights    Ill.  Forward   29  5.166667    62   22  \n",
      "55       Burlington   Mass.  Defence   26  5.333333    64   24  \n",
      "56         Lakewood   Colo.   Goalie   27  5.583333    67   24  \n",
      "57       Farmington   Mich.  Defence   25  5.916667    71   22  \n",
      "63       Minnetonka   Minn.  Defence   26  5.416667    65   23  \n",
      "64         Plymouth   Minn.  Forward   25  5.666667    68   25  \n",
      "65       Montpelier     Vt.  Forward   28  5.250000    63   24  \n",
      "66          Buffalo    N.Y.  Defence   28  5.250000    63   22  \n",
      "67        Delafield    Wis.   Goalie   29  5.583333    67   23  \n",
      "68          Andover   Minn.   Goalie   24  5.416667    65   24  \n",
      "69        Rockville     Md.  Forward   27  5.500000    66   23  \n",
      "70        Roseville   Minn.  Defence   27  6.000000    72   24  \n",
      "74         Moorhead   Minn.  Defence   24  6.166667    74   25  \n",
      "77         Scituate   Mass.  Forward   25  6.083333    73   26  \n",
      "80           Canton    N.Y.  Forward   24  6.416667    77   28  \n",
      "92  Highlands Ranch   Colo.  Forward   24  6.000000    72   24  \n"
     ]
    }
   ],
   "source": [
    "print(df.loc[lambda df:df['Age']<30])"
   ]
  },
  {
   "cell_type": "markdown",
   "metadata": {},
   "source": [
    "PRINT PLAYERS WITH BMI OVER 26"
   ]
  },
  {
   "cell_type": "code",
   "execution_count": 64,
   "metadata": {},
   "outputs": [
    {
     "name": "stdout",
     "output_type": "stream",
     "text": [
      "    ID   Team Country     NameF        NameL  Weight Height        DOB  \\\n",
      "9   10  Women  Canada     Haley        Irwin     170    5'7 1988-06-06   \n",
      "15  16  Women  Canada  Brigette    Lacquette     180    5'6 1992-10-11   \n",
      "24  25    Men  Canada    Wojtek       Wolski     220    6'3 1986-02-24   \n",
      "25  26    Men  Canada     Derek          Roy     187    5'9 1983-05-04   \n",
      "27  28    Men  Canada       Rob  Klinkhammer     214    6'3 1986-08-12   \n",
      "30  31    Men  Canada      René      Bourque     216    6'2 1981-12-10   \n",
      "33  34    Men  Canada      Eric       O’Dell     201    6'1 1990-06-21   \n",
      "34  35    Men  Canada     Maxim     Lapierre     216    6'0 1985-03-29   \n",
      "43  44    Men  Canada       Mat     Robinson     185   5'10 1986-06-20   \n",
      "44  45    Men  Canada     Maxim       Noreau     198    6'0 1987-05-24   \n",
      "47  48    Men  Canada    Justin       Peters     210    6'1 1986-08-30   \n",
      "48  49  Women     USA     Cayla       Barnes     145    5'1 1999-01-07   \n",
      "72  73    Men     USA      Chad      Billins     185   5'10 1989-05-26   \n",
      "75  76    Men     USA     Chris      Bourque     180    5'8 1986-01-29   \n",
      "79  80    Men     USA     Brian       Gionta     175    5'7 1979-01-18   \n",
      "80  81    Men     USA    Jordan     Greenway     235    6'5 1997-02-16   \n",
      "90  91    Men     USA       Jim       Slater     200    6'0 1982-12-09   \n",
      "94  95    Men     USA     James   Wisniewski     205    6'0 1984-02-21   \n",
      "95  96    Men     USA      Ryan     Zapolski     203    6'0 1986-11-11   \n",
      "\n",
      "         Hometown    Prov      Pos  Age  HeightFt  HtIn  BMI  \n",
      "9     Thunder Bay    Ont.  Forward   33  5.583333    67   27  \n",
      "15        Mallard    Man.  Defence   29  5.500000    66   29  \n",
      "24        Toronto    Ont.  Forward   35  6.250000    75   27  \n",
      "25       Rockland    Ont.  Forward   38  5.750000    69   28  \n",
      "27     Lethbridge   Alta.  Forward   35  6.250000    75   27  \n",
      "30   Lac La Biche   Alta.  Forward   40  6.166667    74   28  \n",
      "33         Ottawa    Ont.  Forward   31  6.083333    73   27  \n",
      "34       Brossard    Que.  Forward   36  6.000000    72   29  \n",
      "43        Calgary   Alta.  Defence   35  5.833333    70   27  \n",
      "44       Montreal    Que.  Defence   34  6.000000    72   27  \n",
      "47          Blyth    Ont.   Goalie   35  6.083333    73   28  \n",
      "48       Eastvale  Calif.  Defence   22  5.083333    61   27  \n",
      "72     Marysville   Mich.  Defence   32  5.833333    70   27  \n",
      "75  North Reading   Mass.  Forward   35  5.666667    68   27  \n",
      "79      Rochester    N.Y.  Forward   42  5.583333    67   27  \n",
      "80         Canton    N.Y.  Forward   24  6.416667    77   28  \n",
      "90         Lapeer   Mich.  Forward   39  6.000000    72   27  \n",
      "94         Canton   Mich.  Defence   37  6.000000    72   28  \n",
      "95           Erie     Pa.   Goalie   35  6.000000    72   28  \n"
     ]
    }
   ],
   "source": [
    "print(df.loc[lambda df:df['BMI']>26])"
   ]
  },
  {
   "cell_type": "markdown",
   "metadata": {},
   "source": [
    "GROUP PLAYERS BY BMI"
   ]
  },
  {
   "cell_type": "code",
   "execution_count": 72,
   "metadata": {},
   "outputs": [
    {
     "name": "stdout",
     "output_type": "stream",
     "text": [
      "     ID  Team  Country  NameF  NameL  Weight  Height  DOB  Hometown  Prov  \\\n",
      "BMI                                                                         \n",
      "20    1     1        1      1      1       1       1    1         1     1   \n",
      "21    3     3        3      3      3       3       3    3         3     3   \n",
      "22    7     7        7      7      7       7       7    7         7     7   \n",
      "23   10    10       10     10     10      10      10   10        10    10   \n",
      "24   19    19       19     19     19      19      19   19        19    19   \n",
      "25   13    13       13     13     13      13      13   13        13    13   \n",
      "26   24    24       24     24     24      24      24   24        24    24   \n",
      "27   11    11       11     11     11      11      11   11        11    11   \n",
      "28    6     6        6      6      6       6       6    6         6     6   \n",
      "29    2     2        2      2      2       2       2    2         2     2   \n",
      "\n",
      "     Pos  Age  HeightFt  HtIn  \n",
      "BMI                            \n",
      "20     1    1         1     1  \n",
      "21     3    3         3     3  \n",
      "22     7    7         7     7  \n",
      "23    10   10        10    10  \n",
      "24    19   19        19    19  \n",
      "25    13   13        13    13  \n",
      "26    24   24        24    24  \n",
      "27    11   11        11    11  \n",
      "28     6    6         6     6  \n",
      "29     2    2         2     2  \n"
     ]
    }
   ],
   "source": [
    "print(df.groupby('BMI').count()['ID'])"
   ]
  }
 ],
 "metadata": {
  "kernelspec": {
   "display_name": "Python 3.10.4 64-bit",
   "language": "python",
   "name": "python3"
  },
  "language_info": {
   "codemirror_mode": {
    "name": "ipython",
    "version": 3
   },
   "file_extension": ".py",
   "mimetype": "text/x-python",
   "name": "python",
   "nbconvert_exporter": "python",
   "pygments_lexer": "ipython3",
   "version": "3.10.4"
  },
  "orig_nbformat": 4,
  "vscode": {
   "interpreter": {
    "hash": "916dbcbb3f70747c44a77c7bcd40155683ae19c65e1c03b4aa3499c5328201f1"
   }
  }
 },
 "nbformat": 4,
 "nbformat_minor": 2
}
