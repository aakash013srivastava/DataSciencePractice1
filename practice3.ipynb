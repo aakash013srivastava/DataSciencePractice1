{
 "cells": [
  {
   "cell_type": "markdown",
   "metadata": {},
   "source": [
    "IMPORTING MODULES AND FILES"
   ]
  },
  {
   "cell_type": "code",
   "execution_count": 2,
   "metadata": {},
   "outputs": [],
   "source": [
    "import pandas as pd \n",
    "\n",
    "df= pd.read_excel('SampleData.xlsx',sheet_name='SalesOrders')"
   ]
  },
  {
   "cell_type": "markdown",
   "metadata": {},
   "source": [
    "PRINT SAMPLE"
   ]
  },
  {
   "cell_type": "code",
   "execution_count": 3,
   "metadata": {},
   "outputs": [
    {
     "name": "stdout",
     "output_type": "stream",
     "text": [
      "    OrderDate   Region     Rep     Item  Units  Unit Cost    Total\n",
      "19 2021-11-25  Central  Kivell  Pen Set     96       4.99   479.04\n",
      "34 2022-08-07  Central  Kivell  Pen Set     42      23.95  1005.90\n",
      "33 2022-07-21  Central  Morgan  Pen Set     55      12.49   686.95\n",
      "9  2021-06-08     East   Jones   Binder     60       8.99   539.40\n",
      "14 2021-09-01  Central   Smith     Desk      2     125.00   250.00\n"
     ]
    }
   ],
   "source": [
    "print(df.sample(5))"
   ]
  },
  {
   "cell_type": "markdown",
   "metadata": {},
   "source": [
    "ITEM-WISE TOTAL COST"
   ]
  },
  {
   "cell_type": "code",
   "execution_count": 10,
   "metadata": {},
   "outputs": [
    {
     "name": "stdout",
     "output_type": "stream",
     "text": [
      "Item\n",
      "Binder     722\n",
      "Desk        10\n",
      "Pen        278\n",
      "Pen Set    395\n",
      "Pencil     716\n",
      "Name: Units, dtype: int64\n"
     ]
    }
   ],
   "source": [
    "print(df.groupby('Item').sum()['Units'])"
   ]
  },
  {
   "cell_type": "markdown",
   "metadata": {},
   "source": [
    "\n",
    "REGION-WISE TOTAL EXPENDITURE"
   ]
  },
  {
   "cell_type": "code",
   "execution_count": 35,
   "metadata": {},
   "outputs": [
    {
     "name": "stdout",
     "output_type": "stream",
     "text": [
      "Region\n",
      "Central    11139.07\n",
      "East        6002.09\n",
      "West        2486.72\n",
      "Name: Total, dtype: float64\n"
     ]
    },
    {
     "data": {
      "text/plain": [
       "<AxesSubplot:xlabel='Region'>"
      ]
     },
     "execution_count": 35,
     "metadata": {},
     "output_type": "execute_result"
    },
    {
     "data": {
      "image/png": "[encoded data removed]",
      "text/plain": [
       "<Figure size 432x288 with 1 Axes>"
      ]
     },
     "metadata": {
      "needs_background": "light"
     },
     "output_type": "display_data"
    }
   ],
   "source": [
    "df2 = df.groupby('Region').sum()['Total']\n",
    "print(df2)\n",
    "df2.plot(kind='bar')"
   ]
  },
  {
   "cell_type": "markdown",
   "metadata": {},
   "source": [
    "MONTH-WISE TOTAL EXPENDITURE"
   ]
  },
  {
   "cell_type": "code",
   "execution_count": 33,
   "metadata": {},
   "outputs": [
    {
     "name": "stdout",
     "output_type": "stream",
     "text": [
      "       Units    Total\n",
      "Month                \n",
      "1        191  1602.09\n",
      "10       163  1984.57\n",
      "11       122   833.78\n",
      "12       263  3288.47\n",
      "2        154  2044.33\n",
      "3        113   556.87\n",
      "4        297  1059.03\n",
      "5        255  1300.35\n",
      "6        155  1613.50\n",
      "7        227  2673.23\n",
      "8         80  2005.55\n",
      "9        101   666.11\n"
     ]
    },
    {
     "data": {
      "text/plain": [
       "<AxesSubplot:xlabel='Month'>"
      ]
     },
     "execution_count": 33,
     "metadata": {},
     "output_type": "execute_result"
    },
    {
     "data": {
      "image/png": "[encoded data removed]",
      "text/plain": [
       "<Figure size 432x288 with 1 Axes>"
      ]
     },
     "metadata": {
      "needs_background": "light"
     },
     "output_type": "display_data"
    }
   ],
   "source": [
    "df['Month'] = df['OrderDate'].apply(lambda x:str(x.month))\n",
    "print(df.groupby('Month').sum()[['Units','Total']])\n",
    "df2 = df.groupby('Month').sum()[['Units','Total']]\n",
    "df2.plot(kind='bar')"
   ]
  },
  {
   "cell_type": "markdown",
   "metadata": {},
   "source": [
    "ITEM-WISE SORTED LIST OF ITEMS-EXPENDITURE"
   ]
  },
  {
   "cell_type": "code",
   "execution_count": 31,
   "metadata": {},
   "outputs": [
    {
     "name": "stdout",
     "output_type": "stream",
     "text": [
      "Item\n",
      "Desk       1700.00\n",
      "Pen        2045.22\n",
      "Pencil     2135.14\n",
      "Pen Set    4169.87\n",
      "Binder     9577.65\n",
      "Name: Total, dtype: float64\n"
     ]
    },
    {
     "data": {
      "text/plain": [
       "<AxesSubplot:xlabel='Item'>"
      ]
     },
     "execution_count": 31,
     "metadata": {},
     "output_type": "execute_result"
    },
    {
     "data": {
      "image/png": "[encoded data removed]",
      "text/plain": [
       "<Figure size 432x288 with 1 Axes>"
      ]
     },
     "metadata": {
      "needs_background": "light"
     },
     "output_type": "display_data"
    }
   ],
   "source": [
    "print(df.groupby('Item').sum()['Total'].sort_values())\n",
    "df2 = df.groupby('Item').sum()['Total'].sort_values()\n",
    "df2.plot()"
   ]
  }
 ],
 "metadata": {
  "kernelspec": {
   "display_name": "Python 3.10.4 64-bit",
   "language": "python",
   "name": "python3"
  },
  "language_info": {
   "codemirror_mode": {
    "name": "ipython",
    "version": 3
   },
   "file_extension": ".py",
   "mimetype": "text/x-python",
   "name": "python",
   "nbconvert_exporter": "python",
   "pygments_lexer": "ipython3",
   "version": "3.10.4"
  },
  "orig_nbformat": 4,
  "vscode": {
   "interpreter": {
    "hash": "916dbcbb3f70747c44a77c7bcd40155683ae19c65e1c03b4aa3499c5328201f1"
   }
  }
 },
 "nbformat": 4,
 "nbformat_minor": 2
}
