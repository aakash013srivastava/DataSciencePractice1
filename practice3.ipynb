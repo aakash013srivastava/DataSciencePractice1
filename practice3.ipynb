{
 "cells": [
  {
   "cell_type": "markdown",
   "metadata": {},
   "source": [
    "IMPORTING MODULES AND FILES"
   ]
  },
  {
   "cell_type": "code",
   "execution_count": 7,
   "metadata": {},
   "outputs": [],
   "source": [
    "import pandas as pd \n",
    "\n",
    "df= pd.read_excel('SampleData.xlsx',sheet_name='SalesOrders')"
   ]
  },
  {
   "cell_type": "markdown",
   "metadata": {},
   "source": [
    "PRINT SAMPLE"
   ]
  },
  {
   "cell_type": "code",
   "execution_count": 9,
   "metadata": {},
   "outputs": [
    {
     "name": "stdout",
     "output_type": "stream",
     "text": [
      "    OrderDate   Region     Rep    Item  Units  Unit Cost   Total\n",
      "20 2021-12-12  Central   Smith  Pencil     67       1.29   86.43\n",
      "28 2022-04-27     East  Howard     Pen     96       4.99  479.04\n",
      "13 2021-08-15     East   Jones  Pencil     35       4.99  174.65\n",
      "3  2021-02-26  Central    Gill     Pen     27      19.99  539.73\n",
      "18 2021-11-08     East  Parent     Pen     15      19.99  299.85\n"
     ]
    }
   ],
   "source": [
    "print(df.sample(5))"
   ]
  }
 ],
 "metadata": {
  "kernelspec": {
   "display_name": "Python 3.10.4 64-bit",
   "language": "python",
   "name": "python3"
  },
  "language_info": {
   "codemirror_mode": {
    "name": "ipython",
    "version": 3
   },
   "file_extension": ".py",
   "mimetype": "text/x-python",
   "name": "python",
   "nbconvert_exporter": "python",
   "pygments_lexer": "ipython3",
   "version": "3.10.4"
  },
  "orig_nbformat": 4,
  "vscode": {
   "interpreter": {
    "hash": "916dbcbb3f70747c44a77c7bcd40155683ae19c65e1c03b4aa3499c5328201f1"
   }
  }
 },
 "nbformat": 4,
 "nbformat_minor": 2
}
