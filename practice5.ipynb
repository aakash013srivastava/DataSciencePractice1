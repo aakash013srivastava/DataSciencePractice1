{
 "cells": [
  {
   "cell_type": "code",
   "execution_count": 45,
   "metadata": {},
   "outputs": [],
   "source": [
    "import pandas as pd\n",
    "import numpy as np\n",
    "\n",
    "df = pd.read_excel('sampledatainsurance.xlsx',sheet_name='PolicyData')"
   ]
  },
  {
   "cell_type": "markdown",
   "metadata": {},
   "source": [
    "PRINT DATAFRAME"
   ]
  },
  {
   "cell_type": "code",
   "execution_count": 2,
   "metadata": {},
   "outputs": [
    {
     "name": "stdout",
     "output_type": "stream",
     "text": [
      "   Policy     Expiry Location State   Region  InsuredValue Construction  \\\n",
      "0  100242 2021-01-02    Urban    NY     East       1617630        Frame   \n",
      "1  100314 2021-01-02    Urban    NY     East       8678500  Fire Resist   \n",
      "2  100359 2021-01-02    Rural    WI  Midwest       2052660        Frame   \n",
      "3  100315 2021-01-03    Urban    NY     East      17580000        Frame   \n",
      "4  100385 2021-01-03    Urban    NY     East       1925000      Masonry   \n",
      "\n",
      "  BusinessType Earthquake Flood  \n",
      "0       Retail          N     N  \n",
      "1    Apartment          Y     Y  \n",
      "2      Farming          N     N  \n",
      "3    Apartment          Y     Y  \n",
      "4  Hospitality          N     N  \n"
     ]
    }
   ],
   "source": [
    "print(df.head())"
   ]
  },
  {
   "cell_type": "markdown",
   "metadata": {},
   "source": [
    "PRINT INSURED VALUE MORE THAN 5 Mn AND FRAME CONSTRUCTION"
   ]
  },
  {
   "cell_type": "code",
   "execution_count": 9,
   "metadata": {},
   "outputs": [
    {
     "name": "stdout",
     "output_type": "stream",
     "text": [
      "     Policy     Expiry Location State   Region  InsuredValue Construction  \\\n",
      "3    100315 2021-01-03    Urban    NY     East      17580000        Frame   \n",
      "5    100388 2021-01-04    Urban    IL  Midwest      12934500        Frame   \n",
      "8    100265 2021-01-07    Urban    NY     East      14100000        Frame   \n",
      "10   100399 2021-01-08    Urban    NY     East      13925190        Frame   \n",
      "11   100329 2021-01-09    Urban    NY     East       6350000        Frame   \n",
      "..      ...        ...      ...   ...      ...           ...          ...   \n",
      "479  101107 2021-12-25    Urban    NY     East       9377600        Frame   \n",
      "483  101111 2021-12-26    Rural    NY     East       6235057        Frame   \n",
      "490  101116 2021-12-29    Urban    NY     East       8245000        Frame   \n",
      "493  101117 2021-12-30    Urban    NY     East       9050000        Frame   \n",
      "498  101125 2021-12-31    Urban    NY     East      16482200        Frame   \n",
      "\n",
      "    BusinessType Earthquake Flood  \n",
      "3      Apartment          Y     Y  \n",
      "5      Apartment          Y     Y  \n",
      "8      Apartment          Y     Y  \n",
      "10     Apartment          Y     Y  \n",
      "11     Apartment          Y     Y  \n",
      "..           ...        ...   ...  \n",
      "479    Apartment          Y     Y  \n",
      "483      Farming          N     N  \n",
      "490    Apartment          Y     Y  \n",
      "493    Apartment          Y     Y  \n",
      "498  Office Bldg          Y     Y  \n",
      "\n",
      "[101 rows x 10 columns]\n"
     ]
    }
   ],
   "source": [
    "print(df[(df['InsuredValue']>5000000) & (df['Construction'] == 'Frame')])"
   ]
  },
  {
   "cell_type": "markdown",
   "metadata": {},
   "source": [
    "GROUP BY STATE,REGION AND PRINT COUNT OF INSURED-VALUE"
   ]
  },
  {
   "cell_type": "code",
   "execution_count": 23,
   "metadata": {},
   "outputs": [
    {
     "name": "stdout",
     "output_type": "stream",
     "text": [
      "State  Region   \n",
      "IL     Midwest       14\n",
      "ME     Northeast      4\n",
      "MI     Central        7\n",
      "MN     Midwest        2\n",
      "NH     Northeast      7\n",
      "NJ     East          76\n",
      "NY     East         261\n",
      "OH     Central       14\n",
      "VT     Northeast     23\n",
      "WI     Midwest       92\n",
      "Name: InsuredValue, dtype: int64\n"
     ]
    }
   ],
   "source": [
    "print(df.groupby(by=['State','Region'])['InsuredValue'].count())"
   ]
  },
  {
   "cell_type": "markdown",
   "metadata": {},
   "source": [
    "GROUP BY STATE,REGION AND PRINT SORTED INSURED-VALUE"
   ]
  },
  {
   "cell_type": "code",
   "execution_count": 28,
   "metadata": {},
   "outputs": [
    {
     "name": "stdout",
     "output_type": "stream",
     "text": [
      "                                                      InsuredValue\n",
      "State Region                                                      \n",
      "IL    Midwest    [172100, 787500, 1702350, 1895000, 2182250, 29...\n",
      "ME    Northeast                 [552300, 790000, 1444255, 7150000]\n",
      "MI    Central    [315000, 394220, 601000, 714000, 1991600, 3255...\n",
      "MN    Midwest                                   [1305100, 1834200]\n",
      "NH    Northeast  [97920, 145680, 320000, 345000, 626000, 132760...\n",
      "NJ    East       [205000, 296000, 299400, 320100, 371600, 37350...\n",
      "NY    East       [30000, 82000, 100000, 140000, 192000, 199000,...\n",
      "OH    Central    [218490, 320000, 608500, 661900, 1202090, 1529...\n",
      "VT    Northeast  [1325200, 1588100, 1806500, 1960000, 2099525, ...\n",
      "WI    Midwest    [105000, 275000, 294700, 500500, 504000, 53904...\n"
     ]
    },
    {
     "name": "stderr",
     "output_type": "stream",
     "text": [
      "/tmp/ipykernel_4810/416329581.py:1: FutureWarning: Indexing with multiple keys (implicitly converted to a tuple of keys) will be deprecated, use a list instead.\n",
      "  print(df.groupby(by=['State','Region'])['State','Region','InsuredValue'].agg({'InsuredValue':sorted}))\n"
     ]
    }
   ],
   "source": [
    "print(df.groupby(by=['State','Region'])['State','Region','InsuredValue'].agg({'InsuredValue':sorted}))"
   ]
  },
  {
   "cell_type": "markdown",
   "metadata": {},
   "source": [
    "PRINT CONSTRUCTION PERCENTAGES"
   ]
  },
  {
   "cell_type": "code",
   "execution_count": 36,
   "metadata": {},
   "outputs": [
    {
     "name": "stdout",
     "output_type": "stream",
     "text": [
      "Construction\n",
      "Fire Resist     7.8\n",
      "Frame          64.4\n",
      "Masonry        21.6\n",
      "Metal Clad      6.2\n",
      "dtype: float64\n"
     ]
    }
   ],
   "source": [
    "df_csum_individual=df.groupby('Construction').apply(len)\n",
    "df_csum_total=len(df)\n",
    "# print(df_csum_total)\n",
    "df_csum_individual['percentages'] = (df_csum_individual/df_csum_total)*100\n",
    "print(df_csum_individual['percentages'])"
   ]
  },
  {
   "cell_type": "markdown",
   "metadata": {},
   "source": [
    "CONSTRUCTION PERCENTAGES GRAPH"
   ]
  },
  {
   "cell_type": "code",
   "execution_count": 44,
   "metadata": {},
   "outputs": [
    {
     "data": {
      "text/plain": [
       "<AxesSubplot:xlabel='Construction'>"
      ]
     },
     "execution_count": 44,
     "metadata": {},
     "output_type": "execute_result"
    },
    {
     "data": {
      "image/png": "[encoded data removed]",
      "text/plain": [
       "<Figure size 432x288 with 1 Axes>"
      ]
     },
     "metadata": {
      "needs_background": "light"
     },
     "output_type": "display_data"
    }
   ],
   "source": [
    "df_csum_individual['percentages'].plot(kind='bar')"
   ]
  },
  {
   "cell_type": "markdown",
   "metadata": {},
   "source": [
    "PRINT EARTHQUAKE AND FLOOD YES COUNT "
   ]
  },
  {
   "cell_type": "code",
   "execution_count": 55,
   "metadata": {},
   "outputs": [
    {
     "name": "stdout",
     "output_type": "stream",
     "text": [
      "Earthquake count:512 and flood count:249\n"
     ]
    }
   ],
   "source": [
    "e_count = (df[['Earthquake','Flood']].loc[df['Earthquake'] == 'Y'].size)\n",
    "f_count = (df['Flood'].loc[df['Flood'] == 'Y'].size)\n",
    "print(\"Earthquake count:\"+str(e_count)+\" and flood count:\"+str(f_count))"
   ]
  }
 ],
 "metadata": {
  "kernelspec": {
   "display_name": "Python 3.10.4 64-bit",
   "language": "python",
   "name": "python3"
  },
  "language_info": {
   "codemirror_mode": {
    "name": "ipython",
    "version": 3
   },
   "file_extension": ".py",
   "mimetype": "text/x-python",
   "name": "python",
   "nbconvert_exporter": "python",
   "pygments_lexer": "ipython3",
   "version": "3.10.4"
  },
  "orig_nbformat": 4,
  "vscode": {
   "interpreter": {
    "hash": "916dbcbb3f70747c44a77c7bcd40155683ae19c65e1c03b4aa3499c5328201f1"
   }
  }
 },
 "nbformat": 4,
 "nbformat_minor": 2
}
