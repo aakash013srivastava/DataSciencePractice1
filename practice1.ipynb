{
 "cells": [
  {
   "cell_type": "code",
   "execution_count": 53,
   "metadata": {},
   "outputs": [],
   "source": [
    "import numpy as np\n",
    "import pandas as pd\n",
    "import datetime \n",
    "df = pd.read_csv('portals.csv')"
   ]
  },
  {
   "cell_type": "markdown",
   "metadata": {},
   "source": [
    "PRINT FIRST FIVE ROWS OF FIRST FIVE COLUMNS"
   ]
  },
  {
   "cell_type": "code",
   "execution_count": 9,
   "metadata": {},
   "outputs": [
    {
     "name": "stdout",
     "output_type": "stream",
     "text": [
      "                       name                            title  \\\n",
      "0                 a2gov_org              Ann Arbor, Michigan   \n",
      "1  acikveri-sahinbey-bel-tr  Açık Veri Portali - Test Yayını   \n",
      "2          africa_open_data                 Africa Open Data   \n",
      "3   ajuntament-de-tarragona              Open Data Tarragona   \n",
      "4     ajuntament-de-terassa                Open Data Terassa   \n",
      "\n",
      "                                                 url                   author  \\\n",
      "0  http://www.a2gov.org/services/data/Pages/defau...        City of Ann Arbor   \n",
      "1            http://acikveri.sahinbey.bel.tr/dataset                 pinardag   \n",
      "2                         http://africaopendata.org/         Africa Open Data   \n",
      "3                     http://opendata.tarragona.cat/  Ajuntament de Tarragona   \n",
      "4                      http://opendata.terrassa.cat/    Ajuntament de Terassa   \n",
      "\n",
      "                 publisher  \n",
      "0        City of Ann Arbor  \n",
      "1      SahinBey Belediyesi  \n",
      "2         Africa Open Data  \n",
      "3  Ajuntament de Tarragona  \n",
      "4    Ajuntament de Terassa  \n"
     ]
    }
   ],
   "source": [
    "print(df.iloc[0:5,0:5].head())\n"
   ]
  },
  {
   "cell_type": "markdown",
   "metadata": {},
   "source": [
    "PRINT PUBLISHERS FROM ANN ARBOR"
   ]
  },
  {
   "cell_type": "code",
   "execution_count": 28,
   "metadata": {},
   "outputs": [
    {
     "name": "stdout",
     "output_type": "stream",
     "text": [
      "                 title          publisher\n",
      "0  Ann Arbor, Michigan  City of Ann Arbor\n",
      "1                  NaN                NaN\n",
      "2                  NaN                NaN\n",
      "3                  NaN                NaN\n",
      "4                  NaN                NaN\n"
     ]
    }
   ],
   "source": [
    "df2  = df.where(df['publisher'] == 'City of Ann Arbor')[['title','publisher']].iloc[0:5]\n",
    "print(df2)"
   ]
  },
  {
   "cell_type": "markdown",
   "metadata": {},
   "source": [
    "Countries with count"
   ]
  },
  {
   "cell_type": "code",
   "execution_count": 42,
   "metadata": {},
   "outputs": [
    {
     "name": "stdout",
     "output_type": "stream",
     "text": [
      "['US' 'TR' 'AF' 'ES' 'AL' 'CA' 'DZ' 'NL' 'GB' 'FR' 'AT' 'AU' 'BH' 'IT'\n",
      " 'UK' 'CN' 'DE' 'BM' 'RU' 'AR' 'KR' 'CM' 'CV' 'PT' 'CL' 'UA' 'IE' 'BR'\n",
      " 'RS' 'MX' 'mx uy cl' 'CZ' 'SP' 'br' 'PL' 'isr' 'SK' 'HK' 'sui' 'JP' 'TH'\n",
      " 'bf' 'HR' 'PH' 'RO' 'TW' 'jp' 'no' nan 'Global' 'UG' 'ru' 'gr' 'NO' 'ITa'\n",
      " 'PY' 'GT' 'pe' 'DK' 'cod' 'GLOBAL'\n",
      " 'IE US UK ES FR NL DE pl sv IT lt AR id no ru fi cs PT' 'eTH' 'Europe'\n",
      " 'FI' 'BE' 'GR' 'KA' 'USA' 'gha' 'IN' 'ID' 'Kamloops, BrITish Columbia'\n",
      " 'global' 'mwi' 'EU' 'MD' 'UY' 'MA' 'mAR' 'moz' 'nam' 'nga' 'dnk' 'OM'\n",
      " 'SA' 'NZ' 'CO' 'XK' 'SL' 'KH' 'SE' 'KE' 'HU' 'JE' 'LB' 'TZ' 'CH' 'cog'\n",
      " 'rwa' 'San DIEgo, California' 'SEn' 'SG' 'ZA' 'zaf' 'ssd' 'tza'\n",
      " 'UK CA AU gr hu lt si NL md' 'tun' 'AE' 'en' 'ZM' 'ZW' 'BG' 'Ukraine'\n",
      " 'International' 'United States' 'BO' 'Telangana, India' 'GF' 'MK'\n",
      " 'Armenia' 'Tunisia' 'United Kingdom' 'Nepal' 'UZ' 'TN' 'PS' 'NP' 'TJ']\n",
      "130\n"
     ]
    }
   ],
   "source": [
    "print(df['country'].unique())\n",
    "print(df['country'].unique().size)"
   ]
  },
  {
   "cell_type": "markdown",
   "metadata": {},
   "source": [
    "COUNTRY_WISE DATA ROW COUNT"
   ]
  },
  {
   "cell_type": "code",
   "execution_count": 50,
   "metadata": {},
   "outputs": [
    {
     "name": "stdout",
     "output_type": "stream",
     "text": [
      "US                                                       100\n",
      "CA                                                        62\n",
      "BR                                                        43\n",
      "IT                                                        32\n",
      "ES                                                        31\n",
      "                                                        ... \n",
      "DZ                                                         1\n",
      "eTH                                                        1\n",
      "IE US UK ES FR NL DE pl sv IT lt AR id no ru fi cs PT      1\n",
      "cod                                                        1\n",
      "TJ                                                         1\n",
      "Name: country, Length: 129, dtype: int64\n"
     ]
    }
   ],
   "source": [
    "print(df['country'].value_counts())"
   ]
  },
  {
   "cell_type": "markdown",
   "metadata": {},
   "source": [
    "\n",
    "PRINT STATUSES WITH COUNT"
   ]
  },
  {
   "cell_type": "code",
   "execution_count": 59,
   "metadata": {},
   "outputs": [
    {
     "name": "stdout",
     "output_type": "stream",
     "text": [
      "601\n",
      "['active' 'inactive' 'static']\n",
      "active      586\n",
      "inactive     14\n",
      "static        1\n",
      "Name: status, dtype: int64\n"
     ]
    }
   ],
   "source": [
    "print(len(df))\n",
    "print(df['status'].unique())\n",
    "print(df['status'].value_counts())"
   ]
  },
  {
   "cell_type": "markdown",
   "metadata": {},
   "source": [
    "COUNT DATA FROM NETHERLANDS"
   ]
  },
  {
   "cell_type": "code",
   "execution_count": 73,
   "metadata": {},
   "outputs": [
    {
     "name": "stdout",
     "output_type": "stream",
     "text": [
      "5\n"
     ]
    }
   ],
   "source": [
    "print(df['description'].str.contains('Netherlands').sum())"
   ]
  }
 ],
 "metadata": {
  "kernelspec": {
   "display_name": "Python 3.10.4 64-bit",
   "language": "python",
   "name": "python3"
  },
  "language_info": {
   "codemirror_mode": {
    "name": "ipython",
    "version": 3
   },
   "file_extension": ".py",
   "mimetype": "text/x-python",
   "name": "python",
   "nbconvert_exporter": "python",
   "pygments_lexer": "ipython3",
   "version": "3.10.4"
  },
  "orig_nbformat": 4,
  "vscode": {
   "interpreter": {
    "hash": "916dbcbb3f70747c44a77c7bcd40155683ae19c65e1c03b4aa3499c5328201f1"
   }
  }
 },
 "nbformat": 4,
 "nbformat_minor": 2
}
